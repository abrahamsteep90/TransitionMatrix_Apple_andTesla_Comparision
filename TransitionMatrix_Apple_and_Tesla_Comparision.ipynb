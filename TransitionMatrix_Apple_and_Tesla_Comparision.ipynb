{
 "cells": [
  {
   "cell_type": "markdown",
   "metadata": {},
   "source": [
    "We import necessary libaries first"
   ]
  },
  {
   "cell_type": "code",
   "execution_count": 121,
   "metadata": {},
   "outputs": [],
   "source": [
    "import yfinance as yf\n",
    "yf.pdr_override()\n",
    "import pandas as pd\n",
    "import numpy as np\n",
    "from scipy.stats import kurtosis, skew\n",
    "from sklearn.model_selection import train_test_split"
   ]
  },
  {
   "cell_type": "markdown",
   "metadata": {},
   "source": [
    "### a) Download 1-2 years of price history of a stock.\n",
    "\n"
   ]
  },
  {
   "cell_type": "code",
   "execution_count": 75,
   "metadata": {},
   "outputs": [
    {
     "name": "stdout",
     "output_type": "stream",
     "text": [
      "[*********************100%***********************]  1 of 1 completed\n"
     ]
    }
   ],
   "source": [
    "Apple= yf.download(\"AAPL\", start=\"2019-09-01\", end=\"2020-09-01\")"
   ]
  },
  {
   "cell_type": "code",
   "execution_count": 76,
   "metadata": {
    "scrolled": true
   },
   "outputs": [
    {
     "data": {
      "text/html": [
       "<div>\n",
       "<style scoped>\n",
       "    .dataframe tbody tr th:only-of-type {\n",
       "        vertical-align: middle;\n",
       "    }\n",
       "\n",
       "    .dataframe tbody tr th {\n",
       "        vertical-align: top;\n",
       "    }\n",
       "\n",
       "    .dataframe thead th {\n",
       "        text-align: right;\n",
       "    }\n",
       "</style>\n",
       "<table border=\"1\" class=\"dataframe\">\n",
       "  <thead>\n",
       "    <tr style=\"text-align: right;\">\n",
       "      <th></th>\n",
       "      <th>Open</th>\n",
       "      <th>High</th>\n",
       "      <th>Low</th>\n",
       "      <th>Close</th>\n",
       "      <th>Adj Close</th>\n",
       "      <th>Volume</th>\n",
       "    </tr>\n",
       "    <tr>\n",
       "      <th>Date</th>\n",
       "      <th></th>\n",
       "      <th></th>\n",
       "      <th></th>\n",
       "      <th></th>\n",
       "      <th></th>\n",
       "      <th></th>\n",
       "    </tr>\n",
       "  </thead>\n",
       "  <tbody>\n",
       "    <tr>\n",
       "      <th>2019-09-03</th>\n",
       "      <td>51.607498</td>\n",
       "      <td>51.744999</td>\n",
       "      <td>51.055000</td>\n",
       "      <td>51.424999</td>\n",
       "      <td>50.919777</td>\n",
       "      <td>80092000</td>\n",
       "    </tr>\n",
       "    <tr>\n",
       "      <th>2019-09-04</th>\n",
       "      <td>52.097500</td>\n",
       "      <td>52.369999</td>\n",
       "      <td>51.830002</td>\n",
       "      <td>52.297501</td>\n",
       "      <td>51.783714</td>\n",
       "      <td>76752400</td>\n",
       "    </tr>\n",
       "    <tr>\n",
       "      <th>2019-09-05</th>\n",
       "      <td>53.000000</td>\n",
       "      <td>53.492500</td>\n",
       "      <td>52.877499</td>\n",
       "      <td>53.320000</td>\n",
       "      <td>52.796162</td>\n",
       "      <td>95654800</td>\n",
       "    </tr>\n",
       "    <tr>\n",
       "      <th>2019-09-06</th>\n",
       "      <td>53.512501</td>\n",
       "      <td>53.605000</td>\n",
       "      <td>53.127499</td>\n",
       "      <td>53.314999</td>\n",
       "      <td>52.791210</td>\n",
       "      <td>77449200</td>\n",
       "    </tr>\n",
       "    <tr>\n",
       "      <th>2019-09-09</th>\n",
       "      <td>53.709999</td>\n",
       "      <td>54.110001</td>\n",
       "      <td>52.767502</td>\n",
       "      <td>53.542500</td>\n",
       "      <td>53.016479</td>\n",
       "      <td>109237600</td>\n",
       "    </tr>\n",
       "  </tbody>\n",
       "</table>\n",
       "</div>"
      ],
      "text/plain": [
       "                 Open       High        Low      Close  Adj Close     Volume\n",
       "Date                                                                        \n",
       "2019-09-03  51.607498  51.744999  51.055000  51.424999  50.919777   80092000\n",
       "2019-09-04  52.097500  52.369999  51.830002  52.297501  51.783714   76752400\n",
       "2019-09-05  53.000000  53.492500  52.877499  53.320000  52.796162   95654800\n",
       "2019-09-06  53.512501  53.605000  53.127499  53.314999  52.791210   77449200\n",
       "2019-09-09  53.709999  54.110001  52.767502  53.542500  53.016479  109237600"
      ]
     },
     "execution_count": 76,
     "metadata": {},
     "output_type": "execute_result"
    }
   ],
   "source": [
    "Apple.head()"
   ]
  },
  {
   "cell_type": "markdown",
   "metadata": {},
   "source": [
    "### b) Compute its log return."
   ]
  },
  {
   "cell_type": "code",
   "execution_count": 77,
   "metadata": {},
   "outputs": [],
   "source": [
    "Apple[\"Log_Return_Apple\"]=np.log(Apple[\"Close\"]/Apple[\"Close\"].shift(1))"
   ]
  },
  {
   "cell_type": "markdown",
   "metadata": {},
   "source": [
    "We do not need every columns in this datasets, so i droped some of it"
   ]
  },
  {
   "cell_type": "code",
   "execution_count": 78,
   "metadata": {},
   "outputs": [
    {
     "data": {
      "text/html": [
       "<div>\n",
       "<style scoped>\n",
       "    .dataframe tbody tr th:only-of-type {\n",
       "        vertical-align: middle;\n",
       "    }\n",
       "\n",
       "    .dataframe tbody tr th {\n",
       "        vertical-align: top;\n",
       "    }\n",
       "\n",
       "    .dataframe thead th {\n",
       "        text-align: right;\n",
       "    }\n",
       "</style>\n",
       "<table border=\"1\" class=\"dataframe\">\n",
       "  <thead>\n",
       "    <tr style=\"text-align: right;\">\n",
       "      <th></th>\n",
       "      <th>Log_Return_Apple</th>\n",
       "    </tr>\n",
       "    <tr>\n",
       "      <th>Date</th>\n",
       "      <th></th>\n",
       "    </tr>\n",
       "  </thead>\n",
       "  <tbody>\n",
       "    <tr>\n",
       "      <th>2019-09-03</th>\n",
       "      <td>NaN</td>\n",
       "    </tr>\n",
       "    <tr>\n",
       "      <th>2019-09-04</th>\n",
       "      <td>0.016824</td>\n",
       "    </tr>\n",
       "    <tr>\n",
       "      <th>2019-09-05</th>\n",
       "      <td>0.019363</td>\n",
       "    </tr>\n",
       "    <tr>\n",
       "      <th>2019-09-06</th>\n",
       "      <td>-0.000094</td>\n",
       "    </tr>\n",
       "    <tr>\n",
       "      <th>2019-09-09</th>\n",
       "      <td>0.004258</td>\n",
       "    </tr>\n",
       "    <tr>\n",
       "      <th>...</th>\n",
       "      <td>...</td>\n",
       "    </tr>\n",
       "    <tr>\n",
       "      <th>2020-08-25</th>\n",
       "      <td>-0.008238</td>\n",
       "    </tr>\n",
       "    <tr>\n",
       "      <th>2020-08-26</th>\n",
       "      <td>0.013507</td>\n",
       "    </tr>\n",
       "    <tr>\n",
       "      <th>2020-08-27</th>\n",
       "      <td>-0.012026</td>\n",
       "    </tr>\n",
       "    <tr>\n",
       "      <th>2020-08-28</th>\n",
       "      <td>-0.001621</td>\n",
       "    </tr>\n",
       "    <tr>\n",
       "      <th>2020-08-31</th>\n",
       "      <td>0.033350</td>\n",
       "    </tr>\n",
       "  </tbody>\n",
       "</table>\n",
       "<p>252 rows × 1 columns</p>\n",
       "</div>"
      ],
      "text/plain": [
       "            Log_Return_Apple\n",
       "Date                        \n",
       "2019-09-03               NaN\n",
       "2019-09-04          0.016824\n",
       "2019-09-05          0.019363\n",
       "2019-09-06         -0.000094\n",
       "2019-09-09          0.004258\n",
       "...                      ...\n",
       "2020-08-25         -0.008238\n",
       "2020-08-26          0.013507\n",
       "2020-08-27         -0.012026\n",
       "2020-08-28         -0.001621\n",
       "2020-08-31          0.033350\n",
       "\n",
       "[252 rows x 1 columns]"
      ]
     },
     "execution_count": 78,
     "metadata": {},
     "output_type": "execute_result"
    }
   ],
   "source": [
    "Apple.drop(['Open', 'High', 'Low','Close', 'Adj Close', 'Volume'], axis=1)"
   ]
  },
  {
   "cell_type": "markdown",
   "metadata": {},
   "source": [
    "### c) Compute the mean, standard deviation, skewness, and excess kurtosis of its log return. "
   ]
  },
  {
   "cell_type": "code",
   "execution_count": 79,
   "metadata": {
    "scrolled": false
   },
   "outputs": [
    {
     "name": "stdout",
     "output_type": "stream",
     "text": [
      "Mean of Log Return of Apple stocks: 0.0036653305222491927\n",
      "Standard Deviation of Log Return of Apple stocks: 0.02631950821630945\n",
      "Excess kurtosis of Log Return of Apple stocks(should be 0): 6.504365071806104\n",
      "Skewness of Log Return of Apple stocks (should be 0): -0.34483332400211414\n"
     ]
    }
   ],
   "source": [
    "print( 'Mean of Log Return of Apple stocks: {}'.format(np.mean(Apple[\"Log_Return_Apple\"].dropna())))\n",
    "print( 'Standard Deviation of Log Return of Apple stocks: {}'.format(np.std(Apple[\"Log_Return_Apple\"].dropna())))\n",
    "print( 'Excess kurtosis of Log Return of Apple stocks(should be 0): {}'.format(kurtosis(Apple[\"Log_Return_Apple\"].dropna())))\n",
    "print( 'Skewness of Log Return of Apple stocks (should be 0): {}'.format( skew(Apple[\"Log_Return_Apple\"].dropna())))"
   ]
  },
  {
   "cell_type": "markdown",
   "metadata": {},
   "source": [
    "### d) Repeat for a second stock.  "
   ]
  },
  {
   "cell_type": "code",
   "execution_count": 80,
   "metadata": {},
   "outputs": [
    {
     "name": "stdout",
     "output_type": "stream",
     "text": [
      "[*********************100%***********************]  1 of 1 completed\n"
     ]
    }
   ],
   "source": [
    "Tesla= yf.download(\"TSLA\", start=\"2019-09-01\", end=\"2020-09-01\")"
   ]
  },
  {
   "cell_type": "code",
   "execution_count": 81,
   "metadata": {},
   "outputs": [
    {
     "data": {
      "text/html": [
       "<div>\n",
       "<style scoped>\n",
       "    .dataframe tbody tr th:only-of-type {\n",
       "        vertical-align: middle;\n",
       "    }\n",
       "\n",
       "    .dataframe tbody tr th {\n",
       "        vertical-align: top;\n",
       "    }\n",
       "\n",
       "    .dataframe thead th {\n",
       "        text-align: right;\n",
       "    }\n",
       "</style>\n",
       "<table border=\"1\" class=\"dataframe\">\n",
       "  <thead>\n",
       "    <tr style=\"text-align: right;\">\n",
       "      <th></th>\n",
       "      <th>Open</th>\n",
       "      <th>High</th>\n",
       "      <th>Low</th>\n",
       "      <th>Close</th>\n",
       "      <th>Adj Close</th>\n",
       "      <th>Volume</th>\n",
       "    </tr>\n",
       "    <tr>\n",
       "      <th>Date</th>\n",
       "      <th></th>\n",
       "      <th></th>\n",
       "      <th></th>\n",
       "      <th></th>\n",
       "      <th></th>\n",
       "      <th></th>\n",
       "    </tr>\n",
       "  </thead>\n",
       "  <tbody>\n",
       "    <tr>\n",
       "      <th>2019-09-03</th>\n",
       "      <td>44.816002</td>\n",
       "      <td>45.790001</td>\n",
       "      <td>44.632000</td>\n",
       "      <td>45.001999</td>\n",
       "      <td>45.001999</td>\n",
       "      <td>26770500</td>\n",
       "    </tr>\n",
       "    <tr>\n",
       "      <th>2019-09-04</th>\n",
       "      <td>45.377998</td>\n",
       "      <td>45.692001</td>\n",
       "      <td>43.841999</td>\n",
       "      <td>44.136002</td>\n",
       "      <td>44.136002</td>\n",
       "      <td>28805000</td>\n",
       "    </tr>\n",
       "    <tr>\n",
       "      <th>2019-09-05</th>\n",
       "      <td>44.500000</td>\n",
       "      <td>45.959999</td>\n",
       "      <td>44.169998</td>\n",
       "      <td>45.916000</td>\n",
       "      <td>45.916000</td>\n",
       "      <td>36976500</td>\n",
       "    </tr>\n",
       "    <tr>\n",
       "      <th>2019-09-06</th>\n",
       "      <td>45.439999</td>\n",
       "      <td>45.928001</td>\n",
       "      <td>45.034000</td>\n",
       "      <td>45.490002</td>\n",
       "      <td>45.490002</td>\n",
       "      <td>20947000</td>\n",
       "    </tr>\n",
       "    <tr>\n",
       "      <th>2019-09-09</th>\n",
       "      <td>46.000000</td>\n",
       "      <td>46.751999</td>\n",
       "      <td>45.846001</td>\n",
       "      <td>46.358002</td>\n",
       "      <td>46.358002</td>\n",
       "      <td>24013500</td>\n",
       "    </tr>\n",
       "  </tbody>\n",
       "</table>\n",
       "</div>"
      ],
      "text/plain": [
       "                 Open       High        Low      Close  Adj Close    Volume\n",
       "Date                                                                       \n",
       "2019-09-03  44.816002  45.790001  44.632000  45.001999  45.001999  26770500\n",
       "2019-09-04  45.377998  45.692001  43.841999  44.136002  44.136002  28805000\n",
       "2019-09-05  44.500000  45.959999  44.169998  45.916000  45.916000  36976500\n",
       "2019-09-06  45.439999  45.928001  45.034000  45.490002  45.490002  20947000\n",
       "2019-09-09  46.000000  46.751999  45.846001  46.358002  46.358002  24013500"
      ]
     },
     "execution_count": 81,
     "metadata": {},
     "output_type": "execute_result"
    }
   ],
   "source": [
    "Tesla.head()"
   ]
  },
  {
   "cell_type": "code",
   "execution_count": 82,
   "metadata": {},
   "outputs": [],
   "source": [
    "Tesla[\"Log_Return_Tesla\"]=np.log(Tesla[\"Close\"]/Tesla[\"Close\"].shift(1))"
   ]
  },
  {
   "cell_type": "code",
   "execution_count": 83,
   "metadata": {},
   "outputs": [
    {
     "data": {
      "text/html": [
       "<div>\n",
       "<style scoped>\n",
       "    .dataframe tbody tr th:only-of-type {\n",
       "        vertical-align: middle;\n",
       "    }\n",
       "\n",
       "    .dataframe tbody tr th {\n",
       "        vertical-align: top;\n",
       "    }\n",
       "\n",
       "    .dataframe thead th {\n",
       "        text-align: right;\n",
       "    }\n",
       "</style>\n",
       "<table border=\"1\" class=\"dataframe\">\n",
       "  <thead>\n",
       "    <tr style=\"text-align: right;\">\n",
       "      <th></th>\n",
       "      <th>Log_Return_Tesla</th>\n",
       "    </tr>\n",
       "    <tr>\n",
       "      <th>Date</th>\n",
       "      <th></th>\n",
       "    </tr>\n",
       "  </thead>\n",
       "  <tbody>\n",
       "    <tr>\n",
       "      <th>2019-09-03</th>\n",
       "      <td>NaN</td>\n",
       "    </tr>\n",
       "    <tr>\n",
       "      <th>2019-09-04</th>\n",
       "      <td>-0.019431</td>\n",
       "    </tr>\n",
       "    <tr>\n",
       "      <th>2019-09-05</th>\n",
       "      <td>0.039538</td>\n",
       "    </tr>\n",
       "    <tr>\n",
       "      <th>2019-09-06</th>\n",
       "      <td>-0.009321</td>\n",
       "    </tr>\n",
       "    <tr>\n",
       "      <th>2019-09-09</th>\n",
       "      <td>0.018901</td>\n",
       "    </tr>\n",
       "    <tr>\n",
       "      <th>...</th>\n",
       "      <td>...</td>\n",
       "    </tr>\n",
       "    <tr>\n",
       "      <th>2020-08-25</th>\n",
       "      <td>0.004528</td>\n",
       "    </tr>\n",
       "    <tr>\n",
       "      <th>2020-08-26</th>\n",
       "      <td>0.062192</td>\n",
       "    </tr>\n",
       "    <tr>\n",
       "      <th>2020-08-27</th>\n",
       "      <td>0.038976</td>\n",
       "    </tr>\n",
       "    <tr>\n",
       "      <th>2020-08-28</th>\n",
       "      <td>-0.011388</td>\n",
       "    </tr>\n",
       "    <tr>\n",
       "      <th>2020-08-31</th>\n",
       "      <td>0.118395</td>\n",
       "    </tr>\n",
       "  </tbody>\n",
       "</table>\n",
       "<p>252 rows × 1 columns</p>\n",
       "</div>"
      ],
      "text/plain": [
       "            Log_Return_Tesla\n",
       "Date                        \n",
       "2019-09-03               NaN\n",
       "2019-09-04         -0.019431\n",
       "2019-09-05          0.039538\n",
       "2019-09-06         -0.009321\n",
       "2019-09-09          0.018901\n",
       "...                      ...\n",
       "2020-08-25          0.004528\n",
       "2020-08-26          0.062192\n",
       "2020-08-27          0.038976\n",
       "2020-08-28         -0.011388\n",
       "2020-08-31          0.118395\n",
       "\n",
       "[252 rows x 1 columns]"
      ]
     },
     "execution_count": 83,
     "metadata": {},
     "output_type": "execute_result"
    }
   ],
   "source": [
    "Tesla.drop(['Open', 'High', 'Low', 'Close','Adj Close', 'Volume'], axis=1)"
   ]
  },
  {
   "cell_type": "code",
   "execution_count": 84,
   "metadata": {
    "scrolled": true
   },
   "outputs": [
    {
     "name": "stdout",
     "output_type": "stream",
     "text": [
      "Mean of Log Return of Tesla stocks: 0.009579822895735262\n",
      "Standard Deviation of Log Return of Tesla stocks: 0.05135007432639206\n",
      "excess kurtosis of Log Return of Tesla stocks(should be 0): 3.3461653005457572\n",
      "skewness of Log Return of Tesla stocks (should be 0): -0.2312716159720003\n"
     ]
    }
   ],
   "source": [
    "print( 'Mean of Log Return of Tesla stocks: {}'.format(np.mean(Tesla[\"Log_Return_Tesla\"].dropna())))\n",
    "print( 'Standard Deviation of Log Return of Tesla stocks: {}'.format(np.std(Tesla[\"Log_Return_Tesla\"].dropna())))\n",
    "print( 'excess kurtosis of Log Return of Tesla stocks(should be 0): {}'.format(kurtosis(Tesla[\"Log_Return_Tesla\"].dropna())))\n",
    "print( 'skewness of Log Return of Tesla stocks (should be 0): {}'.format( skew(Tesla[\"Log_Return_Tesla\"].dropna()) ))"
   ]
  },
  {
   "cell_type": "markdown",
   "metadata": {},
   "source": [
    "### e) Compute the covariance and the correlation. Explain their difference. How do you convert one to the other?"
   ]
  },
  {
   "cell_type": "code",
   "execution_count": 85,
   "metadata": {},
   "outputs": [
    {
     "name": "stdout",
     "output_type": "stream",
     "text": [
      "Covariance of Log Return of Apple and Tesla Stocks: 0.0006266850826014723\n"
     ]
    }
   ],
   "source": [
    "print( 'Covariance of Log Return of Apple and Tesla Stocks: {}'.format( Apple[\"Log_Return_Apple\"].cov(Tesla[\"Log_Return_Tesla\"])))"
   ]
  },
  {
   "cell_type": "code",
   "execution_count": 86,
   "metadata": {
    "scrolled": true
   },
   "outputs": [
    {
     "name": "stdout",
     "output_type": "stream",
     "text": [
      "Correlation between Log Return of Apple and Tesla Stocks: 0.4618455862203561\n"
     ]
    }
   ],
   "source": [
    "print( 'Correlation between Log Return of Apple and Tesla Stocks: {}'.format( Apple[\"Log_Return_Apple\"].corr(Tesla[\"Log_Return_Tesla\"])))"
   ]
  },
  {
   "cell_type": "markdown",
   "metadata": {},
   "source": [
    "Both correlation and covariance measure the relationship and the dependency between two variables.Here, our two variables are Apple's  and Tesla's stocks. Covariance is used to find how much Apple and Tesla stocks vary together, whereas correlation is used to find when a change in one of our variable, say Apple can result in a change in our another variable which is Tesla.\n",
    "\n",
    "As the formula for Correlation $$Corr=\\frac{Cov\\left ( Apple, Tesla \\right )}{\\sigma _{Apple}^{2}*\\sigma _{Tesla}^{2}}$$\n",
    "\n",
    "We will be able to convert between them by using abovementioned formula"
   ]
  },
  {
   "cell_type": "markdown",
   "metadata": {},
   "source": [
    "# 2. Build your own transition"
   ]
  },
  {
   "cell_type": "markdown",
   "metadata": {},
   "source": [
    "### a) Divide the data into 2 uneven parts: the first part is 80% of your data, and the second part is 20%. "
   ]
  },
  {
   "cell_type": "code",
   "execution_count": 87,
   "metadata": {},
   "outputs": [],
   "source": [
    "train_apple, test_apple = train_test_split(Apple, test_size=0.2,train_size=0.8, random_state=42, shuffle=True)"
   ]
  },
  {
   "cell_type": "markdown",
   "metadata": {},
   "source": [
    "We can check the length of splitted data as below"
   ]
  },
  {
   "cell_type": "code",
   "execution_count": 92,
   "metadata": {
    "scrolled": true
   },
   "outputs": [
    {
     "name": "stdout",
     "output_type": "stream",
     "text": [
      "201\n",
      "51\n"
     ]
    }
   ],
   "source": [
    "print(len(train_apple))\n",
    "print(len(test_apple))"
   ]
  },
  {
   "cell_type": "markdown",
   "metadata": {},
   "source": [
    "80% of Data"
   ]
  },
  {
   "cell_type": "code",
   "execution_count": 93,
   "metadata": {
    "scrolled": false
   },
   "outputs": [
    {
     "data": {
      "text/html": [
       "<div>\n",
       "<style scoped>\n",
       "    .dataframe tbody tr th:only-of-type {\n",
       "        vertical-align: middle;\n",
       "    }\n",
       "\n",
       "    .dataframe tbody tr th {\n",
       "        vertical-align: top;\n",
       "    }\n",
       "\n",
       "    .dataframe thead th {\n",
       "        text-align: right;\n",
       "    }\n",
       "</style>\n",
       "<table border=\"1\" class=\"dataframe\">\n",
       "  <thead>\n",
       "    <tr style=\"text-align: right;\">\n",
       "      <th></th>\n",
       "      <th>Open</th>\n",
       "      <th>High</th>\n",
       "      <th>Low</th>\n",
       "      <th>Close</th>\n",
       "      <th>Adj Close</th>\n",
       "      <th>Volume</th>\n",
       "      <th>Log_Return_Apple</th>\n",
       "    </tr>\n",
       "    <tr>\n",
       "      <th>Date</th>\n",
       "      <th></th>\n",
       "      <th></th>\n",
       "      <th></th>\n",
       "      <th></th>\n",
       "      <th></th>\n",
       "      <th></th>\n",
       "      <th></th>\n",
       "    </tr>\n",
       "  </thead>\n",
       "  <tbody>\n",
       "    <tr>\n",
       "      <th>2020-03-18</th>\n",
       "      <td>59.942501</td>\n",
       "      <td>62.500000</td>\n",
       "      <td>59.279999</td>\n",
       "      <td>61.667500</td>\n",
       "      <td>61.390331</td>\n",
       "      <td>300233600</td>\n",
       "      <td>-0.024785</td>\n",
       "    </tr>\n",
       "    <tr>\n",
       "      <th>2019-11-19</th>\n",
       "      <td>66.974998</td>\n",
       "      <td>67.000000</td>\n",
       "      <td>66.347504</td>\n",
       "      <td>66.572502</td>\n",
       "      <td>66.116371</td>\n",
       "      <td>76167200</td>\n",
       "      <td>-0.003037</td>\n",
       "    </tr>\n",
       "    <tr>\n",
       "      <th>2020-06-24</th>\n",
       "      <td>91.250000</td>\n",
       "      <td>92.197502</td>\n",
       "      <td>89.629997</td>\n",
       "      <td>90.014999</td>\n",
       "      <td>89.852997</td>\n",
       "      <td>192623200</td>\n",
       "      <td>-0.017810</td>\n",
       "    </tr>\n",
       "    <tr>\n",
       "      <th>2020-07-13</th>\n",
       "      <td>97.264999</td>\n",
       "      <td>99.955002</td>\n",
       "      <td>95.257500</td>\n",
       "      <td>95.477501</td>\n",
       "      <td>95.305664</td>\n",
       "      <td>191649200</td>\n",
       "      <td>-0.004624</td>\n",
       "    </tr>\n",
       "    <tr>\n",
       "      <th>2020-04-02</th>\n",
       "      <td>60.084999</td>\n",
       "      <td>61.287498</td>\n",
       "      <td>59.224998</td>\n",
       "      <td>61.232498</td>\n",
       "      <td>60.957287</td>\n",
       "      <td>165934000</td>\n",
       "      <td>0.016549</td>\n",
       "    </tr>\n",
       "  </tbody>\n",
       "</table>\n",
       "</div>"
      ],
      "text/plain": [
       "                 Open       High        Low      Close  Adj Close     Volume  \\\n",
       "Date                                                                           \n",
       "2020-03-18  59.942501  62.500000  59.279999  61.667500  61.390331  300233600   \n",
       "2019-11-19  66.974998  67.000000  66.347504  66.572502  66.116371   76167200   \n",
       "2020-06-24  91.250000  92.197502  89.629997  90.014999  89.852997  192623200   \n",
       "2020-07-13  97.264999  99.955002  95.257500  95.477501  95.305664  191649200   \n",
       "2020-04-02  60.084999  61.287498  59.224998  61.232498  60.957287  165934000   \n",
       "\n",
       "            Log_Return_Apple  \n",
       "Date                          \n",
       "2020-03-18         -0.024785  \n",
       "2019-11-19         -0.003037  \n",
       "2020-06-24         -0.017810  \n",
       "2020-07-13         -0.004624  \n",
       "2020-04-02          0.016549  "
      ]
     },
     "execution_count": 93,
     "metadata": {},
     "output_type": "execute_result"
    }
   ],
   "source": [
    "train_apple.head()"
   ]
  },
  {
   "cell_type": "markdown",
   "metadata": {},
   "source": [
    "20% of Data"
   ]
  },
  {
   "cell_type": "code",
   "execution_count": 94,
   "metadata": {
    "scrolled": true
   },
   "outputs": [
    {
     "data": {
      "text/html": [
       "<div>\n",
       "<style scoped>\n",
       "    .dataframe tbody tr th:only-of-type {\n",
       "        vertical-align: middle;\n",
       "    }\n",
       "\n",
       "    .dataframe tbody tr th {\n",
       "        vertical-align: top;\n",
       "    }\n",
       "\n",
       "    .dataframe thead th {\n",
       "        text-align: right;\n",
       "    }\n",
       "</style>\n",
       "<table border=\"1\" class=\"dataframe\">\n",
       "  <thead>\n",
       "    <tr style=\"text-align: right;\">\n",
       "      <th></th>\n",
       "      <th>Open</th>\n",
       "      <th>High</th>\n",
       "      <th>Low</th>\n",
       "      <th>Close</th>\n",
       "      <th>Adj Close</th>\n",
       "      <th>Volume</th>\n",
       "      <th>Log_Return_Apple</th>\n",
       "    </tr>\n",
       "    <tr>\n",
       "      <th>Date</th>\n",
       "      <th></th>\n",
       "      <th></th>\n",
       "      <th></th>\n",
       "      <th></th>\n",
       "      <th></th>\n",
       "      <th></th>\n",
       "      <th></th>\n",
       "    </tr>\n",
       "  </thead>\n",
       "  <tbody>\n",
       "    <tr>\n",
       "      <th>2020-04-29</th>\n",
       "      <td>71.182503</td>\n",
       "      <td>72.417503</td>\n",
       "      <td>70.972504</td>\n",
       "      <td>71.932503</td>\n",
       "      <td>71.609200</td>\n",
       "      <td>137280800</td>\n",
       "      <td>0.032317</td>\n",
       "    </tr>\n",
       "    <tr>\n",
       "      <th>2019-09-11</th>\n",
       "      <td>54.517502</td>\n",
       "      <td>55.927502</td>\n",
       "      <td>54.432499</td>\n",
       "      <td>55.897499</td>\n",
       "      <td>55.348343</td>\n",
       "      <td>177158400</td>\n",
       "      <td>0.031300</td>\n",
       "    </tr>\n",
       "    <tr>\n",
       "      <th>2020-02-11</th>\n",
       "      <td>80.900002</td>\n",
       "      <td>80.974998</td>\n",
       "      <td>79.677498</td>\n",
       "      <td>79.902496</td>\n",
       "      <td>79.543365</td>\n",
       "      <td>94323200</td>\n",
       "      <td>-0.006052</td>\n",
       "    </tr>\n",
       "    <tr>\n",
       "      <th>2020-05-08</th>\n",
       "      <td>76.410004</td>\n",
       "      <td>77.587502</td>\n",
       "      <td>76.072502</td>\n",
       "      <td>77.532501</td>\n",
       "      <td>77.392960</td>\n",
       "      <td>134048000</td>\n",
       "      <td>0.020820</td>\n",
       "    </tr>\n",
       "    <tr>\n",
       "      <th>2020-02-18</th>\n",
       "      <td>78.839996</td>\n",
       "      <td>79.937500</td>\n",
       "      <td>78.652496</td>\n",
       "      <td>79.750000</td>\n",
       "      <td>79.391556</td>\n",
       "      <td>152531200</td>\n",
       "      <td>-0.018480</td>\n",
       "    </tr>\n",
       "  </tbody>\n",
       "</table>\n",
       "</div>"
      ],
      "text/plain": [
       "                 Open       High        Low      Close  Adj Close     Volume  \\\n",
       "Date                                                                           \n",
       "2020-04-29  71.182503  72.417503  70.972504  71.932503  71.609200  137280800   \n",
       "2019-09-11  54.517502  55.927502  54.432499  55.897499  55.348343  177158400   \n",
       "2020-02-11  80.900002  80.974998  79.677498  79.902496  79.543365   94323200   \n",
       "2020-05-08  76.410004  77.587502  76.072502  77.532501  77.392960  134048000   \n",
       "2020-02-18  78.839996  79.937500  78.652496  79.750000  79.391556  152531200   \n",
       "\n",
       "            Log_Return_Apple  \n",
       "Date                          \n",
       "2020-04-29          0.032317  \n",
       "2019-09-11          0.031300  \n",
       "2020-02-11         -0.006052  \n",
       "2020-05-08          0.020820  \n",
       "2020-02-18         -0.018480  "
      ]
     },
     "execution_count": 94,
     "metadata": {},
     "output_type": "execute_result"
    }
   ],
   "source": [
    "test_apple.head()"
   ]
  },
  {
   "cell_type": "markdown",
   "metadata": {},
   "source": [
    "Now, let's do the same for the second stock and divide it into 80% and 20% datasets"
   ]
  },
  {
   "cell_type": "code",
   "execution_count": 95,
   "metadata": {},
   "outputs": [],
   "source": [
    "train_tesla, test_tesla = train_test_split(Tesla, test_size=0.2,train_size=0.8, random_state=42, shuffle=True)"
   ]
  },
  {
   "cell_type": "markdown",
   "metadata": {},
   "source": [
    "We can check the length of splitted data as below"
   ]
  },
  {
   "cell_type": "code",
   "execution_count": 97,
   "metadata": {},
   "outputs": [
    {
     "name": "stdout",
     "output_type": "stream",
     "text": [
      "201\n",
      "51\n"
     ]
    }
   ],
   "source": [
    "print(len(train_tesla))\n",
    "print(len(test_tesla))"
   ]
  },
  {
   "cell_type": "markdown",
   "metadata": {},
   "source": [
    "80% of Data"
   ]
  },
  {
   "cell_type": "code",
   "execution_count": 98,
   "metadata": {
    "scrolled": true
   },
   "outputs": [
    {
     "data": {
      "text/html": [
       "<div>\n",
       "<style scoped>\n",
       "    .dataframe tbody tr th:only-of-type {\n",
       "        vertical-align: middle;\n",
       "    }\n",
       "\n",
       "    .dataframe tbody tr th {\n",
       "        vertical-align: top;\n",
       "    }\n",
       "\n",
       "    .dataframe thead th {\n",
       "        text-align: right;\n",
       "    }\n",
       "</style>\n",
       "<table border=\"1\" class=\"dataframe\">\n",
       "  <thead>\n",
       "    <tr style=\"text-align: right;\">\n",
       "      <th></th>\n",
       "      <th>Open</th>\n",
       "      <th>High</th>\n",
       "      <th>Low</th>\n",
       "      <th>Close</th>\n",
       "      <th>Adj Close</th>\n",
       "      <th>Volume</th>\n",
       "      <th>Log_Return_Tesla</th>\n",
       "    </tr>\n",
       "    <tr>\n",
       "      <th>Date</th>\n",
       "      <th></th>\n",
       "      <th></th>\n",
       "      <th></th>\n",
       "      <th></th>\n",
       "      <th></th>\n",
       "      <th></th>\n",
       "      <th></th>\n",
       "    </tr>\n",
       "  </thead>\n",
       "  <tbody>\n",
       "    <tr>\n",
       "      <th>2020-03-18</th>\n",
       "      <td>77.800003</td>\n",
       "      <td>80.972000</td>\n",
       "      <td>70.101997</td>\n",
       "      <td>72.244003</td>\n",
       "      <td>72.244003</td>\n",
       "      <td>118931000</td>\n",
       "      <td>-0.174763</td>\n",
       "    </tr>\n",
       "    <tr>\n",
       "      <th>2019-11-19</th>\n",
       "      <td>70.349998</td>\n",
       "      <td>71.998001</td>\n",
       "      <td>69.559998</td>\n",
       "      <td>71.903999</td>\n",
       "      <td>71.903999</td>\n",
       "      <td>38624000</td>\n",
       "      <td>0.026865</td>\n",
       "    </tr>\n",
       "    <tr>\n",
       "      <th>2020-06-24</th>\n",
       "      <td>198.822006</td>\n",
       "      <td>200.175995</td>\n",
       "      <td>190.628006</td>\n",
       "      <td>192.169998</td>\n",
       "      <td>192.169998</td>\n",
       "      <td>54798000</td>\n",
       "      <td>-0.041715</td>\n",
       "    </tr>\n",
       "    <tr>\n",
       "      <th>2020-07-13</th>\n",
       "      <td>331.799988</td>\n",
       "      <td>358.997986</td>\n",
       "      <td>294.221985</td>\n",
       "      <td>299.411987</td>\n",
       "      <td>299.411987</td>\n",
       "      <td>194927000</td>\n",
       "      <td>-0.031294</td>\n",
       "    </tr>\n",
       "    <tr>\n",
       "      <th>2020-04-02</th>\n",
       "      <td>96.206001</td>\n",
       "      <td>98.851997</td>\n",
       "      <td>89.279999</td>\n",
       "      <td>90.893997</td>\n",
       "      <td>90.893997</td>\n",
       "      <td>99292000</td>\n",
       "      <td>-0.057899</td>\n",
       "    </tr>\n",
       "  </tbody>\n",
       "</table>\n",
       "</div>"
      ],
      "text/plain": [
       "                  Open        High         Low       Close   Adj Close  \\\n",
       "Date                                                                     \n",
       "2020-03-18   77.800003   80.972000   70.101997   72.244003   72.244003   \n",
       "2019-11-19   70.349998   71.998001   69.559998   71.903999   71.903999   \n",
       "2020-06-24  198.822006  200.175995  190.628006  192.169998  192.169998   \n",
       "2020-07-13  331.799988  358.997986  294.221985  299.411987  299.411987   \n",
       "2020-04-02   96.206001   98.851997   89.279999   90.893997   90.893997   \n",
       "\n",
       "               Volume  Log_Return_Tesla  \n",
       "Date                                     \n",
       "2020-03-18  118931000         -0.174763  \n",
       "2019-11-19   38624000          0.026865  \n",
       "2020-06-24   54798000         -0.041715  \n",
       "2020-07-13  194927000         -0.031294  \n",
       "2020-04-02   99292000         -0.057899  "
      ]
     },
     "execution_count": 98,
     "metadata": {},
     "output_type": "execute_result"
    }
   ],
   "source": [
    "train_tesla.head()"
   ]
  },
  {
   "cell_type": "markdown",
   "metadata": {},
   "source": [
    "20% of Data"
   ]
  },
  {
   "cell_type": "code",
   "execution_count": 99,
   "metadata": {},
   "outputs": [
    {
     "data": {
      "text/html": [
       "<div>\n",
       "<style scoped>\n",
       "    .dataframe tbody tr th:only-of-type {\n",
       "        vertical-align: middle;\n",
       "    }\n",
       "\n",
       "    .dataframe tbody tr th {\n",
       "        vertical-align: top;\n",
       "    }\n",
       "\n",
       "    .dataframe thead th {\n",
       "        text-align: right;\n",
       "    }\n",
       "</style>\n",
       "<table border=\"1\" class=\"dataframe\">\n",
       "  <thead>\n",
       "    <tr style=\"text-align: right;\">\n",
       "      <th></th>\n",
       "      <th>Open</th>\n",
       "      <th>High</th>\n",
       "      <th>Low</th>\n",
       "      <th>Close</th>\n",
       "      <th>Adj Close</th>\n",
       "      <th>Volume</th>\n",
       "      <th>Log_Return_Tesla</th>\n",
       "    </tr>\n",
       "    <tr>\n",
       "      <th>Date</th>\n",
       "      <th></th>\n",
       "      <th></th>\n",
       "      <th></th>\n",
       "      <th></th>\n",
       "      <th></th>\n",
       "      <th></th>\n",
       "      <th></th>\n",
       "    </tr>\n",
       "  </thead>\n",
       "  <tbody>\n",
       "    <tr>\n",
       "      <th>2020-04-29</th>\n",
       "      <td>158.033997</td>\n",
       "      <td>160.639999</td>\n",
       "      <td>156.632004</td>\n",
       "      <td>160.102005</td>\n",
       "      <td>160.102005</td>\n",
       "      <td>81080000</td>\n",
       "      <td>0.040002</td>\n",
       "    </tr>\n",
       "    <tr>\n",
       "      <th>2019-09-11</th>\n",
       "      <td>47.476002</td>\n",
       "      <td>49.633999</td>\n",
       "      <td>47.200001</td>\n",
       "      <td>49.419998</td>\n",
       "      <td>49.419998</td>\n",
       "      <td>50214000</td>\n",
       "      <td>0.047912</td>\n",
       "    </tr>\n",
       "    <tr>\n",
       "      <th>2020-02-11</th>\n",
       "      <td>153.757996</td>\n",
       "      <td>156.701996</td>\n",
       "      <td>151.600006</td>\n",
       "      <td>154.876007</td>\n",
       "      <td>154.876007</td>\n",
       "      <td>58487500</td>\n",
       "      <td>0.004011</td>\n",
       "    </tr>\n",
       "    <tr>\n",
       "      <th>2020-05-08</th>\n",
       "      <td>158.753998</td>\n",
       "      <td>164.800003</td>\n",
       "      <td>157.401993</td>\n",
       "      <td>163.884003</td>\n",
       "      <td>163.884003</td>\n",
       "      <td>80650500</td>\n",
       "      <td>0.049252</td>\n",
       "    </tr>\n",
       "    <tr>\n",
       "      <th>2020-02-18</th>\n",
       "      <td>168.320007</td>\n",
       "      <td>172.000000</td>\n",
       "      <td>166.472000</td>\n",
       "      <td>171.679993</td>\n",
       "      <td>171.679993</td>\n",
       "      <td>81908500</td>\n",
       "      <td>0.070421</td>\n",
       "    </tr>\n",
       "  </tbody>\n",
       "</table>\n",
       "</div>"
      ],
      "text/plain": [
       "                  Open        High         Low       Close   Adj Close  \\\n",
       "Date                                                                     \n",
       "2020-04-29  158.033997  160.639999  156.632004  160.102005  160.102005   \n",
       "2019-09-11   47.476002   49.633999   47.200001   49.419998   49.419998   \n",
       "2020-02-11  153.757996  156.701996  151.600006  154.876007  154.876007   \n",
       "2020-05-08  158.753998  164.800003  157.401993  163.884003  163.884003   \n",
       "2020-02-18  168.320007  172.000000  166.472000  171.679993  171.679993   \n",
       "\n",
       "              Volume  Log_Return_Tesla  \n",
       "Date                                    \n",
       "2020-04-29  81080000          0.040002  \n",
       "2019-09-11  50214000          0.047912  \n",
       "2020-02-11  58487500          0.004011  \n",
       "2020-05-08  80650500          0.049252  \n",
       "2020-02-18  81908500          0.070421  "
      ]
     },
     "execution_count": 99,
     "metadata": {},
     "output_type": "execute_result"
    }
   ],
   "source": [
    "test_tesla.head()"
   ]
  },
  {
   "cell_type": "markdown",
   "metadata": {},
   "source": [
    "### b) Categorize each day in the 1-2 year price history as belonging to one of four categories:\n",
    "i.Both stocks up\n",
    "ii.Stock 1 up, stock 2 down\n",
    "iii.Stock 1 down, stock 2 up\n",
    "iv.Both stocks down"
   ]
  },
  {
   "cell_type": "markdown",
   "metadata": {},
   "source": [
    "Let's drop unnecessary columns in two datasets first and conctenate what remains in both as one single datasets"
   ]
  },
  {
   "cell_type": "code",
   "execution_count": 100,
   "metadata": {},
   "outputs": [],
   "source": [
    "df1=Apple.drop(['Open', 'High', 'Low','Close', 'Adj Close', 'Volume'], axis=1)\n",
    "df2=Tesla.drop(['Open', 'High', 'Low', 'Close','Adj Close', 'Volume'], axis=1)\n",
    "frames=[df1,df2]\n",
    "Log_Returns_Cat=pd.concat(frames,  axis=1)"
   ]
  },
  {
   "cell_type": "code",
   "execution_count": 101,
   "metadata": {
    "scrolled": false
   },
   "outputs": [
    {
     "data": {
      "text/html": [
       "<div>\n",
       "<style scoped>\n",
       "    .dataframe tbody tr th:only-of-type {\n",
       "        vertical-align: middle;\n",
       "    }\n",
       "\n",
       "    .dataframe tbody tr th {\n",
       "        vertical-align: top;\n",
       "    }\n",
       "\n",
       "    .dataframe thead th {\n",
       "        text-align: right;\n",
       "    }\n",
       "</style>\n",
       "<table border=\"1\" class=\"dataframe\">\n",
       "  <thead>\n",
       "    <tr style=\"text-align: right;\">\n",
       "      <th></th>\n",
       "      <th>Log_Return_Apple</th>\n",
       "      <th>Log_Return_Tesla</th>\n",
       "    </tr>\n",
       "    <tr>\n",
       "      <th>Date</th>\n",
       "      <th></th>\n",
       "      <th></th>\n",
       "    </tr>\n",
       "  </thead>\n",
       "  <tbody>\n",
       "    <tr>\n",
       "      <th>2019-09-03</th>\n",
       "      <td>NaN</td>\n",
       "      <td>NaN</td>\n",
       "    </tr>\n",
       "    <tr>\n",
       "      <th>2019-09-04</th>\n",
       "      <td>0.016824</td>\n",
       "      <td>-0.019431</td>\n",
       "    </tr>\n",
       "    <tr>\n",
       "      <th>2019-09-05</th>\n",
       "      <td>0.019363</td>\n",
       "      <td>0.039538</td>\n",
       "    </tr>\n",
       "    <tr>\n",
       "      <th>2019-09-06</th>\n",
       "      <td>-0.000094</td>\n",
       "      <td>-0.009321</td>\n",
       "    </tr>\n",
       "    <tr>\n",
       "      <th>2019-09-09</th>\n",
       "      <td>0.004258</td>\n",
       "      <td>0.018901</td>\n",
       "    </tr>\n",
       "    <tr>\n",
       "      <th>...</th>\n",
       "      <td>...</td>\n",
       "      <td>...</td>\n",
       "    </tr>\n",
       "    <tr>\n",
       "      <th>2020-08-25</th>\n",
       "      <td>-0.008238</td>\n",
       "      <td>0.004528</td>\n",
       "    </tr>\n",
       "    <tr>\n",
       "      <th>2020-08-26</th>\n",
       "      <td>0.013507</td>\n",
       "      <td>0.062192</td>\n",
       "    </tr>\n",
       "    <tr>\n",
       "      <th>2020-08-27</th>\n",
       "      <td>-0.012026</td>\n",
       "      <td>0.038976</td>\n",
       "    </tr>\n",
       "    <tr>\n",
       "      <th>2020-08-28</th>\n",
       "      <td>-0.001621</td>\n",
       "      <td>-0.011388</td>\n",
       "    </tr>\n",
       "    <tr>\n",
       "      <th>2020-08-31</th>\n",
       "      <td>0.033350</td>\n",
       "      <td>0.118395</td>\n",
       "    </tr>\n",
       "  </tbody>\n",
       "</table>\n",
       "<p>252 rows × 2 columns</p>\n",
       "</div>"
      ],
      "text/plain": [
       "            Log_Return_Apple  Log_Return_Tesla\n",
       "Date                                          \n",
       "2019-09-03               NaN               NaN\n",
       "2019-09-04          0.016824         -0.019431\n",
       "2019-09-05          0.019363          0.039538\n",
       "2019-09-06         -0.000094         -0.009321\n",
       "2019-09-09          0.004258          0.018901\n",
       "...                      ...               ...\n",
       "2020-08-25         -0.008238          0.004528\n",
       "2020-08-26          0.013507          0.062192\n",
       "2020-08-27         -0.012026          0.038976\n",
       "2020-08-28         -0.001621         -0.011388\n",
       "2020-08-31          0.033350          0.118395\n",
       "\n",
       "[252 rows x 2 columns]"
      ]
     },
     "execution_count": 101,
     "metadata": {},
     "output_type": "execute_result"
    }
   ],
   "source": [
    "Log_Returns_Cat"
   ]
  },
  {
   "cell_type": "markdown",
   "metadata": {},
   "source": [
    "To categorize as it is mentioned above, we need to get the difference between consecutive stocks for each data and see if it goes up or down.If the difference between todays and tomorrows stock is negative  then there is a down otherwise it is up(there is no 0 case)"
   ]
  },
  {
   "cell_type": "code",
   "execution_count": 103,
   "metadata": {},
   "outputs": [
    {
     "data": {
      "text/html": [
       "<div>\n",
       "<style scoped>\n",
       "    .dataframe tbody tr th:only-of-type {\n",
       "        vertical-align: middle;\n",
       "    }\n",
       "\n",
       "    .dataframe tbody tr th {\n",
       "        vertical-align: top;\n",
       "    }\n",
       "\n",
       "    .dataframe thead th {\n",
       "        text-align: right;\n",
       "    }\n",
       "</style>\n",
       "<table border=\"1\" class=\"dataframe\">\n",
       "  <thead>\n",
       "    <tr style=\"text-align: right;\">\n",
       "      <th></th>\n",
       "      <th>Log_Return_Apple</th>\n",
       "      <th>Log_Return_Tesla</th>\n",
       "    </tr>\n",
       "    <tr>\n",
       "      <th>Date</th>\n",
       "      <th></th>\n",
       "      <th></th>\n",
       "    </tr>\n",
       "  </thead>\n",
       "  <tbody>\n",
       "    <tr>\n",
       "      <th>2019-09-03</th>\n",
       "      <td>NaN</td>\n",
       "      <td>NaN</td>\n",
       "    </tr>\n",
       "    <tr>\n",
       "      <th>2019-09-04</th>\n",
       "      <td>NaN</td>\n",
       "      <td>NaN</td>\n",
       "    </tr>\n",
       "    <tr>\n",
       "      <th>2019-09-05</th>\n",
       "      <td>0.002539</td>\n",
       "      <td>0.058969</td>\n",
       "    </tr>\n",
       "    <tr>\n",
       "      <th>2019-09-06</th>\n",
       "      <td>-0.019457</td>\n",
       "      <td>-0.048859</td>\n",
       "    </tr>\n",
       "    <tr>\n",
       "      <th>2019-09-09</th>\n",
       "      <td>0.004352</td>\n",
       "      <td>0.028222</td>\n",
       "    </tr>\n",
       "    <tr>\n",
       "      <th>...</th>\n",
       "      <td>...</td>\n",
       "      <td>...</td>\n",
       "    </tr>\n",
       "    <tr>\n",
       "      <th>2020-08-25</th>\n",
       "      <td>-0.020127</td>\n",
       "      <td>0.022135</td>\n",
       "    </tr>\n",
       "    <tr>\n",
       "      <th>2020-08-26</th>\n",
       "      <td>0.021745</td>\n",
       "      <td>0.057664</td>\n",
       "    </tr>\n",
       "    <tr>\n",
       "      <th>2020-08-27</th>\n",
       "      <td>-0.025534</td>\n",
       "      <td>-0.023215</td>\n",
       "    </tr>\n",
       "    <tr>\n",
       "      <th>2020-08-28</th>\n",
       "      <td>0.010405</td>\n",
       "      <td>-0.050364</td>\n",
       "    </tr>\n",
       "    <tr>\n",
       "      <th>2020-08-31</th>\n",
       "      <td>0.034971</td>\n",
       "      <td>0.129783</td>\n",
       "    </tr>\n",
       "  </tbody>\n",
       "</table>\n",
       "<p>252 rows × 2 columns</p>\n",
       "</div>"
      ],
      "text/plain": [
       "            Log_Return_Apple  Log_Return_Tesla\n",
       "Date                                          \n",
       "2019-09-03               NaN               NaN\n",
       "2019-09-04               NaN               NaN\n",
       "2019-09-05          0.002539          0.058969\n",
       "2019-09-06         -0.019457         -0.048859\n",
       "2019-09-09          0.004352          0.028222\n",
       "...                      ...               ...\n",
       "2020-08-25         -0.020127          0.022135\n",
       "2020-08-26          0.021745          0.057664\n",
       "2020-08-27         -0.025534         -0.023215\n",
       "2020-08-28          0.010405         -0.050364\n",
       "2020-08-31          0.034971          0.129783\n",
       "\n",
       "[252 rows x 2 columns]"
      ]
     },
     "execution_count": 103,
     "metadata": {},
     "output_type": "execute_result"
    }
   ],
   "source": [
    "Diff_Return=Log_Returns_Cat.diff()\n",
    "Diff_Return\n"
   ]
  },
  {
   "cell_type": "markdown",
   "metadata": {},
   "source": [
    "Now, we can label each stock as up and and down depending on difference between consecutive days."
   ]
  },
  {
   "cell_type": "code",
   "execution_count": 106,
   "metadata": {
    "scrolled": true
   },
   "outputs": [
    {
     "data": {
      "text/html": [
       "<div>\n",
       "<style scoped>\n",
       "    .dataframe tbody tr th:only-of-type {\n",
       "        vertical-align: middle;\n",
       "    }\n",
       "\n",
       "    .dataframe tbody tr th {\n",
       "        vertical-align: top;\n",
       "    }\n",
       "\n",
       "    .dataframe thead th {\n",
       "        text-align: right;\n",
       "    }\n",
       "</style>\n",
       "<table border=\"1\" class=\"dataframe\">\n",
       "  <thead>\n",
       "    <tr style=\"text-align: right;\">\n",
       "      <th></th>\n",
       "      <th>Log_Return_Apple</th>\n",
       "      <th>Log_Return_Tesla</th>\n",
       "      <th>Categories</th>\n",
       "    </tr>\n",
       "    <tr>\n",
       "      <th>Date</th>\n",
       "      <th></th>\n",
       "      <th></th>\n",
       "      <th></th>\n",
       "    </tr>\n",
       "  </thead>\n",
       "  <tbody>\n",
       "    <tr>\n",
       "      <th>2019-09-03</th>\n",
       "      <td>NaN</td>\n",
       "      <td>NaN</td>\n",
       "      <td>0</td>\n",
       "    </tr>\n",
       "    <tr>\n",
       "      <th>2019-09-04</th>\n",
       "      <td>0.016824</td>\n",
       "      <td>-0.019431</td>\n",
       "      <td>0</td>\n",
       "    </tr>\n",
       "    <tr>\n",
       "      <th>2019-09-05</th>\n",
       "      <td>0.019363</td>\n",
       "      <td>0.039538</td>\n",
       "      <td>Both stocks up</td>\n",
       "    </tr>\n",
       "    <tr>\n",
       "      <th>2019-09-06</th>\n",
       "      <td>-0.000094</td>\n",
       "      <td>-0.009321</td>\n",
       "      <td>Both stocks down</td>\n",
       "    </tr>\n",
       "    <tr>\n",
       "      <th>2019-09-09</th>\n",
       "      <td>0.004258</td>\n",
       "      <td>0.018901</td>\n",
       "      <td>Both stocks up</td>\n",
       "    </tr>\n",
       "    <tr>\n",
       "      <th>...</th>\n",
       "      <td>...</td>\n",
       "      <td>...</td>\n",
       "      <td>...</td>\n",
       "    </tr>\n",
       "    <tr>\n",
       "      <th>2020-08-25</th>\n",
       "      <td>-0.008238</td>\n",
       "      <td>0.004528</td>\n",
       "      <td>Stock #1 down, stock #2 up</td>\n",
       "    </tr>\n",
       "    <tr>\n",
       "      <th>2020-08-26</th>\n",
       "      <td>0.013507</td>\n",
       "      <td>0.062192</td>\n",
       "      <td>Both stocks up</td>\n",
       "    </tr>\n",
       "    <tr>\n",
       "      <th>2020-08-27</th>\n",
       "      <td>-0.012026</td>\n",
       "      <td>0.038976</td>\n",
       "      <td>Both stocks down</td>\n",
       "    </tr>\n",
       "    <tr>\n",
       "      <th>2020-08-28</th>\n",
       "      <td>-0.001621</td>\n",
       "      <td>-0.011388</td>\n",
       "      <td>Stock #1 up, stock #2 down</td>\n",
       "    </tr>\n",
       "    <tr>\n",
       "      <th>2020-08-31</th>\n",
       "      <td>0.033350</td>\n",
       "      <td>0.118395</td>\n",
       "      <td>Both stocks up</td>\n",
       "    </tr>\n",
       "  </tbody>\n",
       "</table>\n",
       "<p>252 rows × 3 columns</p>\n",
       "</div>"
      ],
      "text/plain": [
       "            Log_Return_Apple  Log_Return_Tesla                  Categories\n",
       "Date                                                                      \n",
       "2019-09-03               NaN               NaN                           0\n",
       "2019-09-04          0.016824         -0.019431                           0\n",
       "2019-09-05          0.019363          0.039538              Both stocks up\n",
       "2019-09-06         -0.000094         -0.009321            Both stocks down\n",
       "2019-09-09          0.004258          0.018901              Both stocks up\n",
       "...                      ...               ...                         ...\n",
       "2020-08-25         -0.008238          0.004528  Stock #1 down, stock #2 up\n",
       "2020-08-26          0.013507          0.062192              Both stocks up\n",
       "2020-08-27         -0.012026          0.038976            Both stocks down\n",
       "2020-08-28         -0.001621         -0.011388  Stock #1 up, stock #2 down\n",
       "2020-08-31          0.033350          0.118395              Both stocks up\n",
       "\n",
       "[252 rows x 3 columns]"
      ]
     },
     "execution_count": 106,
     "metadata": {},
     "output_type": "execute_result"
    }
   ],
   "source": [
    "# create a list of our conditions\n",
    "conditions = [\n",
    "    (Diff_Return['Log_Return_Apple']>0)& (Diff_Return['Log_Return_Tesla']>0),\n",
    "    (Diff_Return['Log_Return_Apple']>0) & (Diff_Return['Log_Return_Tesla']<0),\n",
    "    (Diff_Return['Log_Return_Apple']<0) & (Diff_Return['Log_Return_Tesla']>0),\n",
    "    (Diff_Return['Log_Return_Apple']<0) & (Diff_Return['Log_Return_Tesla']<0)\n",
    "    ]\n",
    "\n",
    "# create a list of the values we want to assign for each condition\n",
    "values = ['Both stocks up', 'Stock #1 up, stock #2 down', 'Stock #1 down, stock #2 up', 'Both stocks down']\n",
    "\n",
    "# create a new column and use np.select to assign values to it using our lists as arguments\n",
    "Log_Returns_Cat['Categories'] = np.select(conditions, values)\n",
    "\n",
    "# display updated DataFrame\n",
    "Log_Returns_Cat\n"
   ]
  },
  {
   "cell_type": "markdown",
   "metadata": {},
   "source": [
    "### c. Build a transition matrix of portfolio direction that shows your portfolio in          four scenarios:\n"
   ]
  },
  {
   "cell_type": "markdown",
   "metadata": {},
   "source": [
    "i.  From moving together to moving together That means starting from uu or dd & going to uu or dd\n",
    "ii. From moving together to moving apart That means starting from uu or dd & going to ud or du\n",
    "iii. From moving apart to moving together That means starting from ud or du & going to uu or dd\n",
    "iv. From moving apart to moving apart That means starting from ud or du & going to ud or du  "
   ]
  },
  {
   "cell_type": "code",
   "execution_count": 107,
   "metadata": {
    "scrolled": true
   },
   "outputs": [
    {
     "data": {
      "text/html": [
       "<div>\n",
       "<style scoped>\n",
       "    .dataframe tbody tr th:only-of-type {\n",
       "        vertical-align: middle;\n",
       "    }\n",
       "\n",
       "    .dataframe tbody tr th {\n",
       "        vertical-align: top;\n",
       "    }\n",
       "\n",
       "    .dataframe thead th {\n",
       "        text-align: right;\n",
       "    }\n",
       "</style>\n",
       "<table border=\"1\" class=\"dataframe\">\n",
       "  <thead>\n",
       "    <tr style=\"text-align: right;\">\n",
       "      <th></th>\n",
       "      <th>Log_Return_Apple</th>\n",
       "      <th>Log_Return_Tesla</th>\n",
       "    </tr>\n",
       "    <tr>\n",
       "      <th>Categories</th>\n",
       "      <th></th>\n",
       "      <th></th>\n",
       "    </tr>\n",
       "  </thead>\n",
       "  <tbody>\n",
       "    <tr>\n",
       "      <th>0</th>\n",
       "      <td>1</td>\n",
       "      <td>1</td>\n",
       "    </tr>\n",
       "    <tr>\n",
       "      <th>Both stocks down</th>\n",
       "      <td>79</td>\n",
       "      <td>79</td>\n",
       "    </tr>\n",
       "    <tr>\n",
       "      <th>Both stocks up</th>\n",
       "      <td>77</td>\n",
       "      <td>77</td>\n",
       "    </tr>\n",
       "    <tr>\n",
       "      <th>Stock #1 down, stock #2 up</th>\n",
       "      <td>47</td>\n",
       "      <td>47</td>\n",
       "    </tr>\n",
       "    <tr>\n",
       "      <th>Stock #1 up, stock #2 down</th>\n",
       "      <td>47</td>\n",
       "      <td>47</td>\n",
       "    </tr>\n",
       "  </tbody>\n",
       "</table>\n",
       "</div>"
      ],
      "text/plain": [
       "                            Log_Return_Apple  Log_Return_Tesla\n",
       "Categories                                                    \n",
       "0                                          1                 1\n",
       "Both stocks down                          79                79\n",
       "Both stocks up                            77                77\n",
       "Stock #1 down, stock #2 up                47                47\n",
       "Stock #1 up, stock #2 down                47                47"
      ]
     },
     "execution_count": 107,
     "metadata": {},
     "output_type": "execute_result"
    }
   ],
   "source": [
    "Log_Returns_Cat.drop(Log_Returns_Cat.index[0])\n",
    "Log_Returns_Cat.groupby(by=['Categories']).count()"
   ]
  },
  {
   "cell_type": "markdown",
   "metadata": {},
   "source": [
    "Let's create a sequence of all uu, dd,ud and dd"
   ]
  },
  {
   "cell_type": "code",
   "execution_count": 113,
   "metadata": {},
   "outputs": [],
   "source": [
    "given_value1 ='dd'\n",
    "new_list1=[]\n",
    "new_list1.extend([given_value1 for i in range(79)])\n",
    "given_value2 ='uu'\n",
    "new_list2=[]\n",
    "new_list2.extend([given_value2 for i in range(77)])\n",
    "given_value3 ='du'\n",
    "new_list3=[]\n",
    "new_list3.extend([given_value3 for i in range(47)])\n",
    "given_value4 ='ud'\n",
    "new_list4=[]\n",
    "new_list4.extend([given_value4 for i in range(47)])"
   ]
  },
  {
   "cell_type": "code",
   "execution_count": 114,
   "metadata": {},
   "outputs": [],
   "source": [
    "sequence=new_list1 + new_list2 + new_list3 + new_list4"
   ]
  },
  {
   "cell_type": "code",
   "execution_count": 110,
   "metadata": {},
   "outputs": [],
   "source": [
    "from itertools import islice\n",
    "\n",
    "def window(seq, n=2):\n",
    "    it = iter(seq)\n",
    "    result = tuple(islice(it, n))\n",
    "    if len(result) == n:\n",
    "        yield result\n",
    "    for elem in it:\n",
    "        result = result[1:] + (elem,)\n",
    "        yield result"
   ]
  },
  {
   "cell_type": "markdown",
   "metadata": {},
   "source": [
    "Let's create new dataframe and name the columns as state 1 and state 2 and by usuing our window() function( i created above)\n",
    "Let's put our pairs in new dataframe, afterthat Let's get the probability of each state 1 changing to state 2"
   ]
  },
  {
   "cell_type": "code",
   "execution_count": 115,
   "metadata": {},
   "outputs": [],
   "source": [
    "pairs = pd.DataFrame(window(sequence), columns=['state1', 'state2'])\n",
    "counts = pairs.groupby('state1')['state2'].value_counts()\n",
    "probs = (counts / counts.sum()).unstack()"
   ]
  },
  {
   "cell_type": "markdown",
   "metadata": {},
   "source": [
    "Let's get our probabality in a new dataframe all together"
   ]
  },
  {
   "cell_type": "code",
   "execution_count": 117,
   "metadata": {
    "scrolled": true
   },
   "outputs": [
    {
     "data": {
      "text/html": [
       "<div>\n",
       "<style scoped>\n",
       "    .dataframe tbody tr th:only-of-type {\n",
       "        vertical-align: middle;\n",
       "    }\n",
       "\n",
       "    .dataframe tbody tr th {\n",
       "        vertical-align: top;\n",
       "    }\n",
       "\n",
       "    .dataframe thead th {\n",
       "        text-align: right;\n",
       "    }\n",
       "</style>\n",
       "<table border=\"1\" class=\"dataframe\">\n",
       "  <thead>\n",
       "    <tr style=\"text-align: right;\">\n",
       "      <th>state2</th>\n",
       "      <th>dd</th>\n",
       "      <th>du</th>\n",
       "      <th>ud</th>\n",
       "      <th>uu</th>\n",
       "    </tr>\n",
       "    <tr>\n",
       "      <th>state1</th>\n",
       "      <th></th>\n",
       "      <th></th>\n",
       "      <th></th>\n",
       "      <th></th>\n",
       "    </tr>\n",
       "  </thead>\n",
       "  <tbody>\n",
       "    <tr>\n",
       "      <th>dd</th>\n",
       "      <td>0.313253</td>\n",
       "      <td>NaN</td>\n",
       "      <td>NaN</td>\n",
       "      <td>0.004016</td>\n",
       "    </tr>\n",
       "    <tr>\n",
       "      <th>du</th>\n",
       "      <td>NaN</td>\n",
       "      <td>0.184739</td>\n",
       "      <td>0.004016</td>\n",
       "      <td>NaN</td>\n",
       "    </tr>\n",
       "    <tr>\n",
       "      <th>ud</th>\n",
       "      <td>NaN</td>\n",
       "      <td>NaN</td>\n",
       "      <td>0.184739</td>\n",
       "      <td>NaN</td>\n",
       "    </tr>\n",
       "    <tr>\n",
       "      <th>uu</th>\n",
       "      <td>NaN</td>\n",
       "      <td>0.004016</td>\n",
       "      <td>NaN</td>\n",
       "      <td>0.305221</td>\n",
       "    </tr>\n",
       "  </tbody>\n",
       "</table>\n",
       "</div>"
      ],
      "text/plain": [
       "state2        dd        du        ud        uu\n",
       "state1                                        \n",
       "dd      0.313253       NaN       NaN  0.004016\n",
       "du           NaN  0.184739  0.004016       NaN\n",
       "ud           NaN       NaN  0.184739       NaN\n",
       "uu           NaN  0.004016       NaN  0.305221"
      ]
     },
     "execution_count": 117,
     "metadata": {},
     "output_type": "execute_result"
    }
   ],
   "source": [
    "df=pd.DataFrame(probs)\n",
    "df"
   ]
  },
  {
   "cell_type": "markdown",
   "metadata": {},
   "source": [
    "Let's slice our matrix as question asks "
   ]
  },
  {
   "cell_type": "code",
   "execution_count": 119,
   "metadata": {
    "scrolled": true
   },
   "outputs": [
    {
     "data": {
      "text/html": [
       "<div>\n",
       "<style scoped>\n",
       "    .dataframe tbody tr th:only-of-type {\n",
       "        vertical-align: middle;\n",
       "    }\n",
       "\n",
       "    .dataframe tbody tr th {\n",
       "        vertical-align: top;\n",
       "    }\n",
       "\n",
       "    .dataframe thead th {\n",
       "        text-align: right;\n",
       "    }\n",
       "</style>\n",
       "<table border=\"1\" class=\"dataframe\">\n",
       "  <thead>\n",
       "    <tr style=\"text-align: right;\">\n",
       "      <th>state2</th>\n",
       "      <th>dd</th>\n",
       "      <th>uu</th>\n",
       "    </tr>\n",
       "    <tr>\n",
       "      <th>state1</th>\n",
       "      <th></th>\n",
       "      <th></th>\n",
       "    </tr>\n",
       "  </thead>\n",
       "  <tbody>\n",
       "    <tr>\n",
       "      <th>dd</th>\n",
       "      <td>0.313253</td>\n",
       "      <td>0.004016</td>\n",
       "    </tr>\n",
       "    <tr>\n",
       "      <th>uu</th>\n",
       "      <td>NaN</td>\n",
       "      <td>0.305221</td>\n",
       "    </tr>\n",
       "  </tbody>\n",
       "</table>\n",
       "</div>"
      ],
      "text/plain": [
       "state2        dd        uu\n",
       "state1                    \n",
       "dd      0.313253  0.004016\n",
       "uu           NaN  0.305221"
      ]
     },
     "execution_count": 119,
     "metadata": {},
     "output_type": "execute_result"
    }
   ],
   "source": [
    "df.loc[['dd','uu'],['dd','uu']]"
   ]
  },
  {
   "cell_type": "code",
   "execution_count": 120,
   "metadata": {},
   "outputs": [
    {
     "data": {
      "text/html": [
       "<div>\n",
       "<style scoped>\n",
       "    .dataframe tbody tr th:only-of-type {\n",
       "        vertical-align: middle;\n",
       "    }\n",
       "\n",
       "    .dataframe tbody tr th {\n",
       "        vertical-align: top;\n",
       "    }\n",
       "\n",
       "    .dataframe thead th {\n",
       "        text-align: right;\n",
       "    }\n",
       "</style>\n",
       "<table border=\"1\" class=\"dataframe\">\n",
       "  <thead>\n",
       "    <tr style=\"text-align: right;\">\n",
       "      <th>state2</th>\n",
       "      <th>du</th>\n",
       "      <th>ud</th>\n",
       "    </tr>\n",
       "    <tr>\n",
       "      <th>state1</th>\n",
       "      <th></th>\n",
       "      <th></th>\n",
       "    </tr>\n",
       "  </thead>\n",
       "  <tbody>\n",
       "    <tr>\n",
       "      <th>du</th>\n",
       "      <td>0.184739</td>\n",
       "      <td>0.004016</td>\n",
       "    </tr>\n",
       "    <tr>\n",
       "      <th>ud</th>\n",
       "      <td>NaN</td>\n",
       "      <td>0.184739</td>\n",
       "    </tr>\n",
       "  </tbody>\n",
       "</table>\n",
       "</div>"
      ],
      "text/plain": [
       "state2        du        ud\n",
       "state1                    \n",
       "du      0.184739  0.004016\n",
       "ud           NaN  0.184739"
      ]
     },
     "execution_count": 120,
     "metadata": {},
     "output_type": "execute_result"
    }
   ],
   "source": [
    "df.loc[['du','ud'],['du','ud']]"
   ]
  },
  {
   "cell_type": "markdown",
   "metadata": {},
   "source": [
    "### d. Discuss the similarities or differences of the two transition matrices  "
   ]
  },
  {
   "cell_type": "markdown",
   "metadata": {},
   "source": [
    "Both matrix have one NaN value, which is uu to dd for first and ud to du for second matrix. Probability of dd to  dd is the greatest probability among them with 0.313 and uu to uu follows it as  second biggest with 0.310. It looks like dd to uu and du to ud has same probability of happening. "
   ]
  },
  {
   "cell_type": "markdown",
   "metadata": {},
   "source": [
    "### e. Is the process Markovian?"
   ]
  },
  {
   "cell_type": "markdown",
   "metadata": {},
   "source": [
    "Yes, this is Markovian as it is memoryless and we can predict future outcome based solely on its present state, we do not need its full history."
   ]
  }
 ],
 "metadata": {
  "kernelspec": {
   "display_name": "Python 3",
   "language": "python",
   "name": "python3"
  },
  "language_info": {
   "codemirror_mode": {
    "name": "ipython",
    "version": 3
   },
   "file_extension": ".py",
   "mimetype": "text/x-python",
   "name": "python",
   "nbconvert_exporter": "python",
   "pygments_lexer": "ipython3",
   "version": "3.7.6"
  }
 },
 "nbformat": 4,
 "nbformat_minor": 4
}
